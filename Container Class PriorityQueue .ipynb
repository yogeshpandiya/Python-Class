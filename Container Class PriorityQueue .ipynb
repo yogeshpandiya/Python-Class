{
 "cells": [
  {
   "cell_type": "code",
   "execution_count": 2,
   "id": "4150f0ff",
   "metadata": {},
   "outputs": [],
   "source": [
    "class PriorityQueue:\n",
    "    def __init__(self):\n",
    "        'Instantiates an empty list'\n",
    "        self.q = []\n",
    "    \n",
    "    def __len__(self):\n",
    "        'Returns the lenght of the PriorityQueqe'\n",
    "        return len(self.q)\n",
    "    \n",
    "    def isEmpty(self):\n",
    "        'Returns True if PriorityQueue is empty, False otherwise'\n",
    "        return (len(self.q) == 0)\n",
    "\n",
    "    def insert (self, item):\n",
    "        'Insert item in PriorityQueue'\n",
    "        return self.q.append(item)\n",
    "\n",
    "    def removeMin(self):\n",
    "        'Remove the minimum item of PriorityQueue'\n",
    "        if len(self.q) == 0:\n",
    "            print('PriorityQueue is Empty please Insert value')\n",
    "        else:         \n",
    "            return self.q.remove(min(self.q))\n",
    "\n",
    "    def min(self):\n",
    "        'Provides the minimum item of PriorityQueue'\n",
    "        return min(self.q)"
   ]
  },
  {
   "cell_type": "code",
   "execution_count": 3,
   "id": "6a5bac99",
   "metadata": {},
   "outputs": [],
   "source": [
    "pq = PriorityQueue()"
   ]
  },
  {
   "cell_type": "code",
   "execution_count": 4,
   "id": "77749157",
   "metadata": {},
   "outputs": [],
   "source": [
    "pq.insert(3) "
   ]
  },
  {
   "cell_type": "code",
   "execution_count": 5,
   "id": "fec255ad",
   "metadata": {},
   "outputs": [],
   "source": [
    "pq.insert(1)  "
   ]
  },
  {
   "cell_type": "code",
   "execution_count": 6,
   "id": "b9dd4389",
   "metadata": {},
   "outputs": [],
   "source": [
    "pq.insert(5)  "
   ]
  },
  {
   "cell_type": "code",
   "execution_count": 7,
   "id": "f832da49",
   "metadata": {},
   "outputs": [],
   "source": [
    "pq.insert(2) "
   ]
  },
  {
   "cell_type": "code",
   "execution_count": 8,
   "id": "b8173cc2",
   "metadata": {},
   "outputs": [
    {
     "data": {
      "text/plain": [
       "1"
      ]
     },
     "execution_count": 8,
     "metadata": {},
     "output_type": "execute_result"
    }
   ],
   "source": [
    "pq.min() "
   ]
  },
  {
   "cell_type": "code",
   "execution_count": 9,
   "id": "76d9991e",
   "metadata": {},
   "outputs": [],
   "source": [
    "pq.removeMin()"
   ]
  },
  {
   "cell_type": "code",
   "execution_count": 10,
   "id": "cf505f49",
   "metadata": {},
   "outputs": [
    {
     "data": {
      "text/plain": [
       "2"
      ]
     },
     "execution_count": 10,
     "metadata": {},
     "output_type": "execute_result"
    }
   ],
   "source": [
    "pq.min() "
   ]
  },
  {
   "cell_type": "code",
   "execution_count": 11,
   "id": "f3e059b6",
   "metadata": {},
   "outputs": [
    {
     "data": {
      "text/plain": [
       "3"
      ]
     },
     "execution_count": 11,
     "metadata": {},
     "output_type": "execute_result"
    }
   ],
   "source": [
    "len(pq)"
   ]
  },
  {
   "cell_type": "code",
   "execution_count": 12,
   "id": "977fd024",
   "metadata": {},
   "outputs": [
    {
     "data": {
      "text/plain": [
       "False"
      ]
     },
     "execution_count": 12,
     "metadata": {},
     "output_type": "execute_result"
    }
   ],
   "source": [
    "pq.isEmpty() "
   ]
  },
  {
   "cell_type": "code",
   "execution_count": null,
   "id": "a8cb8da9",
   "metadata": {},
   "outputs": [],
   "source": []
  },
  {
   "cell_type": "code",
   "execution_count": null,
   "id": "97fe12d9",
   "metadata": {},
   "outputs": [],
   "source": []
  }
 ],
 "metadata": {
  "kernelspec": {
   "display_name": "Python 3 (ipykernel)",
   "language": "python",
   "name": "python3"
  },
  "language_info": {
   "codemirror_mode": {
    "name": "ipython",
    "version": 3
   },
   "file_extension": ".py",
   "mimetype": "text/x-python",
   "name": "python",
   "nbconvert_exporter": "python",
   "pygments_lexer": "ipython3",
   "version": "3.9.12"
  }
 },
 "nbformat": 4,
 "nbformat_minor": 5
}
